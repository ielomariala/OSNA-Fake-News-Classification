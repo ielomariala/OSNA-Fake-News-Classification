{
  "nbformat": 4,
  "nbformat_minor": 0,
  "metadata": {
    "colab": {
      "name": "FakeNewsClassification.ipynb",
      "provenance": [],
      "collapsed_sections": []
    },
    "kernelspec": {
      "name": "python3",
      "display_name": "Python 3"
    },
    "language_info": {
      "name": "python"
    }
  },
  "cells": [
    {
      "cell_type": "code",
      "execution_count": 55,
      "metadata": {
        "id": "mfk2tad6gTm4"
      },
      "outputs": [],
      "source": [
        "from sklearn.metrics import pairwise_distances\n",
        "import pandas as pd\n",
        "from sklearn.feature_extraction.text import CountVectorizer\n",
        "# import nltk\n",
        "# nltk.download('stopwords')\n",
        "# from nltk.corpus import stopwords\n",
        "import string\n",
        "\n",
        "\n",
        "from sklearn import svm\n",
        "from sklearn.model_selection import train_test_split\n",
        "\n"
      ]
    },
    {
      "cell_type": "code",
      "source": [
        "train_df = pd.read_csv(\"train.csv\")"
      ],
      "metadata": {
        "id": "5BLUzQrPhzF1"
      },
      "execution_count": 56,
      "outputs": []
    },
    {
      "cell_type": "code",
      "source": [
        "train_df.head(5)"
      ],
      "metadata": {
        "colab": {
          "base_uri": "https://localhost:8080/",
          "height": 206
        },
        "id": "PTmDy2kmiABt",
        "outputId": "6fcdc68b-ac19-46fa-fb2e-0dd9673da36b"
      },
      "execution_count": 57,
      "outputs": [
        {
          "output_type": "execute_result",
          "data": {
            "text/plain": [
              "       id  tid1  tid2                                          title1_en  \\\n",
              "0  195611     0     1  There are two new old-age insurance benefits f...   \n",
              "1  191474     2     3  \"If you do not come to Shenzhen, sooner or lat...   \n",
              "2   25300     2     4  \"If you do not come to Shenzhen, sooner or lat...   \n",
              "3  123757     2     8  \"If you do not come to Shenzhen, sooner or lat...   \n",
              "4  141761     2    11  \"If you do not come to Shenzhen, sooner or lat...   \n",
              "\n",
              "                                           title2_en      label  \n",
              "0  Police disprove \"bird's nest congress each per...  unrelated  \n",
              "1  Shenzhen's GDP outstrips Hong Kong? Shenzhen S...  unrelated  \n",
              "2  The GDP overtopped Hong Kong? Shenzhen clarifi...  unrelated  \n",
              "3  Shenzhen's GDP overtakes Hong Kong? Bureau of ...  unrelated  \n",
              "4  Shenzhen's GDP outpaces Hong Kong? Defending R...  unrelated  "
            ],
            "text/html": [
              "\n",
              "  <div id=\"df-cfb173cd-2ae4-497c-87d0-099a20c21960\">\n",
              "    <div class=\"colab-df-container\">\n",
              "      <div>\n",
              "<style scoped>\n",
              "    .dataframe tbody tr th:only-of-type {\n",
              "        vertical-align: middle;\n",
              "    }\n",
              "\n",
              "    .dataframe tbody tr th {\n",
              "        vertical-align: top;\n",
              "    }\n",
              "\n",
              "    .dataframe thead th {\n",
              "        text-align: right;\n",
              "    }\n",
              "</style>\n",
              "<table border=\"1\" class=\"dataframe\">\n",
              "  <thead>\n",
              "    <tr style=\"text-align: right;\">\n",
              "      <th></th>\n",
              "      <th>id</th>\n",
              "      <th>tid1</th>\n",
              "      <th>tid2</th>\n",
              "      <th>title1_en</th>\n",
              "      <th>title2_en</th>\n",
              "      <th>label</th>\n",
              "    </tr>\n",
              "  </thead>\n",
              "  <tbody>\n",
              "    <tr>\n",
              "      <th>0</th>\n",
              "      <td>195611</td>\n",
              "      <td>0</td>\n",
              "      <td>1</td>\n",
              "      <td>There are two new old-age insurance benefits f...</td>\n",
              "      <td>Police disprove \"bird's nest congress each per...</td>\n",
              "      <td>unrelated</td>\n",
              "    </tr>\n",
              "    <tr>\n",
              "      <th>1</th>\n",
              "      <td>191474</td>\n",
              "      <td>2</td>\n",
              "      <td>3</td>\n",
              "      <td>\"If you do not come to Shenzhen, sooner or lat...</td>\n",
              "      <td>Shenzhen's GDP outstrips Hong Kong? Shenzhen S...</td>\n",
              "      <td>unrelated</td>\n",
              "    </tr>\n",
              "    <tr>\n",
              "      <th>2</th>\n",
              "      <td>25300</td>\n",
              "      <td>2</td>\n",
              "      <td>4</td>\n",
              "      <td>\"If you do not come to Shenzhen, sooner or lat...</td>\n",
              "      <td>The GDP overtopped Hong Kong? Shenzhen clarifi...</td>\n",
              "      <td>unrelated</td>\n",
              "    </tr>\n",
              "    <tr>\n",
              "      <th>3</th>\n",
              "      <td>123757</td>\n",
              "      <td>2</td>\n",
              "      <td>8</td>\n",
              "      <td>\"If you do not come to Shenzhen, sooner or lat...</td>\n",
              "      <td>Shenzhen's GDP overtakes Hong Kong? Bureau of ...</td>\n",
              "      <td>unrelated</td>\n",
              "    </tr>\n",
              "    <tr>\n",
              "      <th>4</th>\n",
              "      <td>141761</td>\n",
              "      <td>2</td>\n",
              "      <td>11</td>\n",
              "      <td>\"If you do not come to Shenzhen, sooner or lat...</td>\n",
              "      <td>Shenzhen's GDP outpaces Hong Kong? Defending R...</td>\n",
              "      <td>unrelated</td>\n",
              "    </tr>\n",
              "  </tbody>\n",
              "</table>\n",
              "</div>\n",
              "      <button class=\"colab-df-convert\" onclick=\"convertToInteractive('df-cfb173cd-2ae4-497c-87d0-099a20c21960')\"\n",
              "              title=\"Convert this dataframe to an interactive table.\"\n",
              "              style=\"display:none;\">\n",
              "        \n",
              "  <svg xmlns=\"http://www.w3.org/2000/svg\" height=\"24px\"viewBox=\"0 0 24 24\"\n",
              "       width=\"24px\">\n",
              "    <path d=\"M0 0h24v24H0V0z\" fill=\"none\"/>\n",
              "    <path d=\"M18.56 5.44l.94 2.06.94-2.06 2.06-.94-2.06-.94-.94-2.06-.94 2.06-2.06.94zm-11 1L8.5 8.5l.94-2.06 2.06-.94-2.06-.94L8.5 2.5l-.94 2.06-2.06.94zm10 10l.94 2.06.94-2.06 2.06-.94-2.06-.94-.94-2.06-.94 2.06-2.06.94z\"/><path d=\"M17.41 7.96l-1.37-1.37c-.4-.4-.92-.59-1.43-.59-.52 0-1.04.2-1.43.59L10.3 9.45l-7.72 7.72c-.78.78-.78 2.05 0 2.83L4 21.41c.39.39.9.59 1.41.59.51 0 1.02-.2 1.41-.59l7.78-7.78 2.81-2.81c.8-.78.8-2.07 0-2.86zM5.41 20L4 18.59l7.72-7.72 1.47 1.35L5.41 20z\"/>\n",
              "  </svg>\n",
              "      </button>\n",
              "      \n",
              "  <style>\n",
              "    .colab-df-container {\n",
              "      display:flex;\n",
              "      flex-wrap:wrap;\n",
              "      gap: 12px;\n",
              "    }\n",
              "\n",
              "    .colab-df-convert {\n",
              "      background-color: #E8F0FE;\n",
              "      border: none;\n",
              "      border-radius: 50%;\n",
              "      cursor: pointer;\n",
              "      display: none;\n",
              "      fill: #1967D2;\n",
              "      height: 32px;\n",
              "      padding: 0 0 0 0;\n",
              "      width: 32px;\n",
              "    }\n",
              "\n",
              "    .colab-df-convert:hover {\n",
              "      background-color: #E2EBFA;\n",
              "      box-shadow: 0px 1px 2px rgba(60, 64, 67, 0.3), 0px 1px 3px 1px rgba(60, 64, 67, 0.15);\n",
              "      fill: #174EA6;\n",
              "    }\n",
              "\n",
              "    [theme=dark] .colab-df-convert {\n",
              "      background-color: #3B4455;\n",
              "      fill: #D2E3FC;\n",
              "    }\n",
              "\n",
              "    [theme=dark] .colab-df-convert:hover {\n",
              "      background-color: #434B5C;\n",
              "      box-shadow: 0px 1px 3px 1px rgba(0, 0, 0, 0.15);\n",
              "      filter: drop-shadow(0px 1px 2px rgba(0, 0, 0, 0.3));\n",
              "      fill: #FFFFFF;\n",
              "    }\n",
              "  </style>\n",
              "\n",
              "      <script>\n",
              "        const buttonEl =\n",
              "          document.querySelector('#df-cfb173cd-2ae4-497c-87d0-099a20c21960 button.colab-df-convert');\n",
              "        buttonEl.style.display =\n",
              "          google.colab.kernel.accessAllowed ? 'block' : 'none';\n",
              "\n",
              "        async function convertToInteractive(key) {\n",
              "          const element = document.querySelector('#df-cfb173cd-2ae4-497c-87d0-099a20c21960');\n",
              "          const dataTable =\n",
              "            await google.colab.kernel.invokeFunction('convertToInteractive',\n",
              "                                                     [key], {});\n",
              "          if (!dataTable) return;\n",
              "\n",
              "          const docLinkHtml = 'Like what you see? Visit the ' +\n",
              "            '<a target=\"_blank\" href=https://colab.research.google.com/notebooks/data_table.ipynb>data table notebook</a>'\n",
              "            + ' to learn more about interactive tables.';\n",
              "          element.innerHTML = '';\n",
              "          dataTable['output_type'] = 'display_data';\n",
              "          await google.colab.output.renderOutput(dataTable, element);\n",
              "          const docLink = document.createElement('div');\n",
              "          docLink.innerHTML = docLinkHtml;\n",
              "          element.appendChild(docLink);\n",
              "        }\n",
              "      </script>\n",
              "    </div>\n",
              "  </div>\n",
              "  "
            ]
          },
          "metadata": {},
          "execution_count": 57
        }
      ]
    },
    {
      "cell_type": "code",
      "source": [
        "def clean_title(title):\n",
        "  return ''.join([word for word in title.lower() if word not in string.punctuation])"
      ],
      "metadata": {
        "id": "zI4y9_-hjt9h"
      },
      "execution_count": 58,
      "outputs": []
    },
    {
      "cell_type": "code",
      "source": [
        "def preprocess(df):\n",
        "  hm = {}\n",
        "  metrics = ['cityblock', 'cosine', 'euclidean', 'l1', 'l2', 'manhattan']\n",
        "  for index, row in df.iterrows():\n",
        "    title1 = clean_title(row['title1_en'])\n",
        "    title2 = clean_title(row['title2_en'])\n",
        "    vector = CountVectorizer().fit_transform([title1, title2]).toarray()\n",
        "\n",
        "    for similarity in metrics:\n",
        "      if similarity not in hm:\n",
        "        hm[similarity] = []\n",
        "      hm[similarity].append(pairwise_distances(vector, metric=similarity)[0][1])\n",
        "\n",
        "  for sim in metrics:\n",
        "    df[sim] = hm[sim]\n",
        "  \n",
        "  del df['title1_en']\n",
        "  del df['title2_en']\n",
        "\n",
        "  return df\n"
      ],
      "metadata": {
        "id": "Z4bZijN3hxQH"
      },
      "execution_count": 59,
      "outputs": []
    },
    {
      "cell_type": "code",
      "source": [
        "df = preprocess(train_df)\n",
        "print(df)\n",
        "X, y = df.loc[:, df.columns != 'label'], df['label']\n",
        "X_train, X_val, y_train, y_val = train_test_split(X, y, test_size=0.25, random_state=42)\n",
        "\n",
        "\n",
        "\n",
        "\n",
        "clf = svm.SVC()\n",
        "clf.fit(X_train, y_train)"
      ],
      "metadata": {
        "colab": {
          "base_uri": "https://localhost:8080/"
        },
        "id": "6NKSh1F8qrX3",
        "outputId": "a8bdec8c-531b-4dad-f5e5-6f72af67e98f"
      },
      "execution_count": null,
      "outputs": [
        {
          "output_type": "stream",
          "name": "stdout",
          "text": [
            "            id    tid1    tid2      label  cityblock    cosine  euclidean  \\\n",
            "0       195611       0       1  unrelated       31.0  0.885668   5.567764   \n",
            "1       191474       2       3  unrelated       35.0  0.778596   6.244998   \n",
            "2        25300       2       4  unrelated       30.0  0.728837   5.830952   \n",
            "3       123757       2       8  unrelated       38.0  0.871376   6.633250   \n",
            "4       141761       2      11  unrelated       35.0  0.857305   6.403124   \n",
            "...        ...     ...     ...        ...        ...       ...        ...   \n",
            "256437  113364  167562   48447  unrelated       21.0  1.000000   5.196152   \n",
            "256438   49407  167562   49795  unrelated       24.0  1.000000   5.477226   \n",
            "256439  130134  167562  114783  unrelated       27.0  0.891852   5.744563   \n",
            "256440  101494  167562  137705  unrelated       26.0  0.881530   5.477226   \n",
            "256441   89356  167563   66480  unrelated       21.0  0.924622   5.000000   \n",
            "\n",
            "          l1        l2  manhattan  \n",
            "0       31.0  5.567764       31.0  \n",
            "1       35.0  6.244998       35.0  \n",
            "2       30.0  5.830952       30.0  \n",
            "3       38.0  6.633250       38.0  \n",
            "4       35.0  6.403124       35.0  \n",
            "...      ...       ...        ...  \n",
            "256437  21.0  5.196152       21.0  \n",
            "256438  24.0  5.477226       24.0  \n",
            "256439  27.0  5.744563       27.0  \n",
            "256440  26.0  5.477226       26.0  \n",
            "256441  21.0  5.000000       21.0  \n",
            "\n",
            "[256442 rows x 10 columns]\n"
          ]
        }
      ]
    },
    {
      "cell_type": "code",
      "source": [
        "pred = clf.predict(X_val)\n",
        "pred"
      ],
      "metadata": {
        "id": "GITiZxhuruef"
      },
      "execution_count": null,
      "outputs": []
    },
    {
      "cell_type": "code",
      "source": [
        "clf.score(X_val, y_val)"
      ],
      "metadata": {
        "id": "-HZGOmhTt4Wg"
      },
      "execution_count": null,
      "outputs": []
    }
  ]
}