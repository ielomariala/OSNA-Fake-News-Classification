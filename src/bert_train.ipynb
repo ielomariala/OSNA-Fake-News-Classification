{
  "cells": [
    {
      "cell_type": "code",
      "execution_count": 1,
      "metadata": {
        "colab": {
          "base_uri": "https://localhost:8080/"
        },
        "execution": {
          "iopub.execute_input": "2022-04-27T00:54:21.078977Z",
          "iopub.status.busy": "2022-04-27T00:54:21.078573Z",
          "iopub.status.idle": "2022-04-27T00:54:26.988102Z",
          "shell.execute_reply": "2022-04-27T00:54:26.987161Z",
          "shell.execute_reply.started": "2022-04-27T00:54:21.078891Z"
        },
        "id": "bBq1NafD20X_",
        "outputId": "232cdf30-5f74-458b-bf9a-c999748b5f6c",
        "trusted": true
      },
      "outputs": [
        {
          "name": "stdout",
          "output_type": "stream",
          "text": [
            "Cloning into 'OSNA-Fake-News-Classification'...\n"
          ]
        }
      ],
      "source": [
        "!git clone https://gitfront.io/r/rchaguer/rpSp4S2YWX1R/OSNA-Fake-News-Classification.git\n",
        "!mv OSNA-Fake-News-Classification OSNA"
      ]
    },
    {
      "cell_type": "code",
      "execution_count": 2,
      "metadata": {
        "colab": {
          "base_uri": "https://localhost:8080/"
        },
        "execution": {
          "iopub.execute_input": "2022-04-27T00:54:26.991423Z",
          "iopub.status.busy": "2022-04-27T00:54:26.990907Z",
          "iopub.status.idle": "2022-04-27T00:54:31.523485Z",
          "shell.execute_reply": "2022-04-27T00:54:31.522741Z",
          "shell.execute_reply.started": "2022-04-27T00:54:26.991381Z"
        },
        "id": "kNBCkcVN20YE",
        "outputId": "ed7a00ba-891d-4939-f77a-f3be36af3c69",
        "trusted": true
      },
      "outputs": [
        {
          "name": "stdout",
          "output_type": "stream",
          "text": [
            "Requirement already satisfied: transformers in /usr/local/lib/python3.7/dist-packages (4.18.0)\n",
            "Requirement already satisfied: regex!=2019.12.17 in /usr/local/lib/python3.7/dist-packages (from transformers) (2019.12.20)\n",
            "Requirement already satisfied: packaging>=20.0 in /usr/local/lib/python3.7/dist-packages (from transformers) (21.3)\n",
            "Requirement already satisfied: filelock in /usr/local/lib/python3.7/dist-packages (from transformers) (3.6.0)\n",
            "Requirement already satisfied: tqdm>=4.27 in /usr/local/lib/python3.7/dist-packages (from transformers) (4.64.0)\n",
            "Requirement already satisfied: numpy>=1.17 in /usr/local/lib/python3.7/dist-packages (from transformers) (1.21.6)\n",
            "Requirement already satisfied: pyyaml>=5.1 in /usr/local/lib/python3.7/dist-packages (from transformers) (6.0)\n",
            "Requirement already satisfied: importlib-metadata in /usr/local/lib/python3.7/dist-packages (from transformers) (4.11.3)\n",
            "Requirement already satisfied: sacremoses in /usr/local/lib/python3.7/dist-packages (from transformers) (0.0.49)\n",
            "Requirement already satisfied: tokenizers!=0.11.3,<0.13,>=0.11.1 in /usr/local/lib/python3.7/dist-packages (from transformers) (0.12.1)\n",
            "Requirement already satisfied: huggingface-hub<1.0,>=0.1.0 in /usr/local/lib/python3.7/dist-packages (from transformers) (0.5.1)\n",
            "Requirement already satisfied: requests in /usr/local/lib/python3.7/dist-packages (from transformers) (2.23.0)\n",
            "Requirement already satisfied: typing-extensions>=3.7.4.3 in /usr/local/lib/python3.7/dist-packages (from huggingface-hub<1.0,>=0.1.0->transformers) (4.2.0)\n",
            "Requirement already satisfied: pyparsing!=3.0.5,>=2.0.2 in /usr/local/lib/python3.7/dist-packages (from packaging>=20.0->transformers) (3.0.8)\n",
            "Requirement already satisfied: zipp>=0.5 in /usr/local/lib/python3.7/dist-packages (from importlib-metadata->transformers) (3.8.0)\n",
            "Requirement already satisfied: idna<3,>=2.5 in /usr/local/lib/python3.7/dist-packages (from requests->transformers) (2.10)\n",
            "Requirement already satisfied: certifi>=2017.4.17 in /usr/local/lib/python3.7/dist-packages (from requests->transformers) (2021.10.8)\n",
            "Requirement already satisfied: chardet<4,>=3.0.2 in /usr/local/lib/python3.7/dist-packages (from requests->transformers) (3.0.4)\n",
            "Requirement already satisfied: urllib3!=1.25.0,!=1.25.1,<1.26,>=1.21.1 in /usr/local/lib/python3.7/dist-packages (from requests->transformers) (1.24.3)\n",
            "Requirement already satisfied: six in /usr/local/lib/python3.7/dist-packages (from sacremoses->transformers) (1.15.0)\n",
            "Requirement already satisfied: click in /usr/local/lib/python3.7/dist-packages (from sacremoses->transformers) (7.1.2)\n",
            "Requirement already satisfied: joblib in /usr/local/lib/python3.7/dist-packages (from sacremoses->transformers) (1.1.0)\n"
          ]
        }
      ],
      "source": [
        "import tensorflow as tf\n",
        "tf.get_logger().setLevel('WARNING')\n",
        "tf.autograph.set_verbosity(2)"
      ]
    },
    {
      "cell_type": "code",
      "execution_count": 3,
      "metadata": {
        "execution": {
          "iopub.execute_input": "2022-04-27T00:54:31.526254Z",
          "iopub.status.busy": "2022-04-27T00:54:31.525737Z",
          "iopub.status.idle": "2022-04-27T00:54:34.454173Z",
          "shell.execute_reply": "2022-04-27T00:54:34.453469Z",
          "shell.execute_reply.started": "2022-04-27T00:54:31.526215Z"
        },
        "id": "0Q6nhAcz20YF",
        "trusted": true
      },
      "outputs": [],
      "source": [
        "from OSNA.src.bert_dataloader import DataLoader_Bert\n",
        "from OSNA.src.bert_model import BertModel\n"
      ]
    },
    {
      "cell_type": "code",
      "execution_count": 4,
      "metadata": {
        "execution": {
          "iopub.execute_input": "2022-04-27T00:54:34.456545Z",
          "iopub.status.busy": "2022-04-27T00:54:34.456284Z",
          "iopub.status.idle": "2022-04-27T00:54:34.46274Z",
          "shell.execute_reply": "2022-04-27T00:54:34.461586Z",
          "shell.execute_reply.started": "2022-04-27T00:54:34.456511Z"
        },
        "id": "gjOd-IHC20YF",
        "trusted": true
      },
      "outputs": [],
      "source": [
        "batch_size = 512\n",
        "max_length = 128"
      ]
    },
    {
      "cell_type": "code",
      "execution_count": 5,
      "metadata": {
        "execution": {
          "iopub.execute_input": "2022-04-27T00:54:34.46389Z",
          "iopub.status.busy": "2022-04-27T00:54:34.46366Z",
          "iopub.status.idle": "2022-04-27T00:54:45.017853Z",
          "shell.execute_reply": "2022-04-27T00:54:45.016946Z",
          "shell.execute_reply.started": "2022-04-27T00:54:34.463856Z"
        },
        "id": "rUZ5JuKy20YG",
        "trusted": true
      },
      "outputs": [],
      "source": [
        "dloader = DataLoader_Bert('OSNA/data', max_length=max_length, batch_size=batch_size)\n",
        "train_gen, valid_gen = dloader.prepare_training()"
      ]
    },
    {
      "cell_type": "code",
      "execution_count": 6,
      "metadata": {
        "execution": {
          "iopub.execute_input": "2022-04-27T00:54:45.019604Z",
          "iopub.status.busy": "2022-04-27T00:54:45.019168Z",
          "iopub.status.idle": "2022-04-27T00:55:18.610675Z",
          "shell.execute_reply": "2022-04-27T00:55:18.609928Z",
          "shell.execute_reply.started": "2022-04-27T00:54:45.019567Z"
        },
        "id": "m7NQ9-Gu20YH",
        "trusted": true
      },
      "outputs": [],
      "source": [
        "model = BertModel(max_length)\n",
        "model.create_model()"
      ]
    },
    {
      "cell_type": "code",
      "execution_count": 15,
      "metadata": {
        "colab": {
          "base_uri": "https://localhost:8080/"
        },
        "id": "Mzs3pTJHMz2g",
        "outputId": "bde9e6c0-ad19-4e7b-e072-fbc64aab31ce"
      },
      "outputs": [
        {
          "name": "stdout",
          "output_type": "stream",
          "text": [
            "Model: \"model\"\n",
            "__________________________________________________________________________________________________\n",
            " Layer (type)                   Output Shape         Param #     Connected to                     \n",
            "==================================================================================================\n",
            " input_ids (InputLayer)         [(None, 128)]        0           []                               \n",
            "                                                                                                  \n",
            " attention_masks (InputLayer)   [(None, 128)]        0           []                               \n",
            "                                                                                                  \n",
            " token_type_ids (InputLayer)    [(None, 128)]        0           []                               \n",
            "                                                                                                  \n",
            " tf_bert_model (TFBertModel)    TFBaseModelOutputWi  109482240   ['input_ids[0][0]',              \n",
            "                                thPoolingAndCrossAt               'attention_masks[0][0]',        \n",
            "                                tentions(last_hidde               'token_type_ids[0][0]']         \n",
            "                                n_state=(None, 128,                                               \n",
            "                                 768),                                                            \n",
            "                                 pooler_output=(Non                                               \n",
            "                                e, 768),                                                          \n",
            "                                 past_key_values=No                                               \n",
            "                                ne, hidden_states=N                                               \n",
            "                                one, attentions=Non                                               \n",
            "                                e, cross_attentions                                               \n",
            "                                =None)                                                            \n",
            "                                                                                                  \n",
            " bidirectional (Bidirectional)  (None, 128, 128)     426496      ['tf_bert_model[0][0]']          \n",
            "                                                                                                  \n",
            " global_average_pooling1d (Glob  (None, 128)         0           ['bidirectional[0][0]']          \n",
            " alAveragePooling1D)                                                                              \n",
            "                                                                                                  \n",
            " global_max_pooling1d (GlobalMa  (None, 128)         0           ['bidirectional[0][0]']          \n",
            " xPooling1D)                                                                                      \n",
            "                                                                                                  \n",
            " concatenate (Concatenate)      (None, 256)          0           ['global_average_pooling1d[0][0]'\n",
            "                                                                 , 'global_max_pooling1d[0][0]']  \n",
            "                                                                                                  \n",
            " dropout_37 (Dropout)           (None, 256)          0           ['concatenate[0][0]']            \n",
            "                                                                                                  \n",
            " dense (Dense)                  (None, 3)            771         ['dropout_37[0][0]']             \n",
            "                                                                                                  \n",
            "==================================================================================================\n",
            "Total params: 109,909,507\n",
            "Trainable params: 427,267\n",
            "Non-trainable params: 109,482,240\n",
            "__________________________________________________________________________________________________\n"
          ]
        }
      ],
      "source": [
        "model.model.summary()"
      ]
    },
    {
      "cell_type": "code",
      "execution_count": 7,
      "metadata": {
        "colab": {
          "base_uri": "https://localhost:8080/"
        },
        "execution": {
          "iopub.execute_input": "2022-04-27T00:55:18.61887Z",
          "iopub.status.busy": "2022-04-27T00:55:18.618582Z",
          "iopub.status.idle": "2022-04-27T04:09:31.212131Z",
          "shell.execute_reply": "2022-04-27T04:09:31.211372Z",
          "shell.execute_reply.started": "2022-04-27T00:55:18.618829Z"
        },
        "id": "CSLAE1Fm20YI",
        "outputId": "415408ec-fac1-485e-9def-31f86238fe81",
        "trusted": true
      },
      "outputs": [
        {
          "name": "stdout",
          "output_type": "stream",
          "text": [
            "WARNING:tensorflow:`period` argument is deprecated. Please use `save_freq` to specify the frequency in number of batches seen.\n"
          ]
        },
        {
          "name": "stderr",
          "output_type": "stream",
          "text": [
            "/usr/local/lib/python3.7/dist-packages/transformers/tokenization_utils_base.py:2269: FutureWarning: The `pad_to_max_length` argument is deprecated and will be removed in a future version, use `padding=True` or `padding='longest'` to pad to the longest sequence in the batch, or use `padding='max_length'` to pad to a max length. In this case, you can give a specific length with `max_length` (e.g. `max_length=45`) or leave max_length to None to pad to the maximal input size of the model (e.g. 512 for Bert).\n",
            "  FutureWarning,\n"
          ]
        },
        {
          "name": "stdout",
          "output_type": "stream",
          "text": [
            "Epoch 1/5\n",
            "400/400 [==============================] - ETA: 0s - loss: 0.4586 - acc: 0.7960\n",
            "Epoch 1: loss improved from inf to 0.45859, saving model to best_model.hdf5\n",
            "400/400 [==============================] - 2350s 6s/step - loss: 0.4586 - acc: 0.7960 - val_loss: 0.3932 - val_acc: 0.8221\n",
            "Epoch 2/5\n",
            "400/400 [==============================] - ETA: 0s - loss: 0.3935 - acc: 0.8228\n",
            "Epoch 2: loss improved from 0.45859 to 0.39347, saving model to best_model.hdf5\n",
            "400/400 [==============================] - 2323s 6s/step - loss: 0.3935 - acc: 0.8228 - val_loss: 0.3638 - val_acc: 0.8371\n",
            "Epoch 3/5\n",
            "400/400 [==============================] - ETA: 0s - loss: 0.3695 - acc: 0.8358\n",
            "Epoch 3: loss improved from 0.39347 to 0.36951, saving model to best_model.hdf5\n",
            "400/400 [==============================] - 2317s 6s/step - loss: 0.3695 - acc: 0.8358 - val_loss: 0.3534 - val_acc: 0.8426\n",
            "Epoch 4/5\n",
            "400/400 [==============================] - ETA: 0s - loss: 0.3520 - acc: 0.8444\n",
            "Epoch 4: loss improved from 0.36951 to 0.35198, saving model to best_model.hdf5\n",
            "400/400 [==============================] - 2308s 6s/step - loss: 0.3520 - acc: 0.8444 - val_loss: 0.3408 - val_acc: 0.8484\n",
            "Epoch 5/5\n",
            "400/400 [==============================] - ETA: 0s - loss: 0.3374 - acc: 0.8523\n",
            "Epoch 5: loss improved from 0.35198 to 0.33738, saving model to best_model.hdf5\n",
            "400/400 [==============================] - 2335s 6s/step - loss: 0.3374 - acc: 0.8523 - val_loss: 0.3331 - val_acc: 0.8533\n"
          ]
        }
      ],
      "source": [
        "history = model.fit(train_gen, valid_gen, epochs=5, batch_size=batch_size)\n"
      ]
    },
    {
      "cell_type": "code",
      "execution_count": 8,
      "metadata": {
        "colab": {
          "base_uri": "https://localhost:8080/",
          "height": 279
        },
        "execution": {
          "iopub.execute_input": "2022-04-27T04:09:31.21543Z",
          "iopub.status.busy": "2022-04-27T04:09:31.215161Z",
          "iopub.status.idle": "2022-04-27T04:09:31.564375Z",
          "shell.execute_reply": "2022-04-27T04:09:31.563695Z",
          "shell.execute_reply.started": "2022-04-27T04:09:31.215393Z"
        },
        "id": "PZVNPvm520YJ",
        "outputId": "6646717c-d16b-4bad-b2f1-fc140031ef38",
        "trusted": true
      },
      "outputs": [
        {
          "data": {
            "image/png": "[encoded data removed]",
            "text/plain": [
              "<Figure size 432x288 with 2 Axes>"
            ]
          },
          "metadata": {
            "needs_background": "light"
          },
          "output_type": "display_data"
        }
      ],
      "source": [
        "model.plot_history()"
      ]
    },
    {
      "cell_type": "code",
      "execution_count": 9,
      "metadata": {
        "execution": {
          "iopub.execute_input": "2022-04-27T04:09:31.566864Z",
          "iopub.status.busy": "2022-04-27T04:09:31.566547Z",
          "iopub.status.idle": "2022-04-27T04:09:31.570406Z",
          "shell.execute_reply": "2022-04-27T04:09:31.569658Z",
          "shell.execute_reply.started": "2022-04-27T04:09:31.566826Z"
        },
        "id": "QTEi7elz20YK",
        "trusted": true
      },
      "outputs": [],
      "source": [
        "testd = dloader.prepare_testing()"
      ]
    },
    {
      "cell_type": "code",
      "execution_count": 10,
      "metadata": {
        "colab": {
          "base_uri": "https://localhost:8080/"
        },
        "execution": {
          "iopub.execute_input": "2022-04-27T04:09:31.57214Z",
          "iopub.status.busy": "2022-04-27T04:09:31.571874Z",
          "iopub.status.idle": "2022-04-27T04:09:31.580016Z",
          "shell.execute_reply": "2022-04-27T04:09:31.579325Z",
          "shell.execute_reply.started": "2022-04-27T04:09:31.572106Z"
        },
        "id": "RtTG9zbR20YK",
        "outputId": "4fcdaa79-88cd-4e1a-dbdc-da422dc2d5ba",
        "trusted": true
      },
      "outputs": [
        {
          "name": "stderr",
          "output_type": "stream",
          "text": [
            "/usr/local/lib/python3.7/dist-packages/transformers/tokenization_utils_base.py:2269: FutureWarning: The `pad_to_max_length` argument is deprecated and will be removed in a future version, use `padding=True` or `padding='longest'` to pad to the longest sequence in the batch, or use `padding='max_length'` to pad to a max length. In this case, you can give a specific length with `max_length` (e.g. `max_length=45`) or leave max_length to None to pad to the maximal input size of the model (e.g. 512 for Bert).\n",
            "  FutureWarning,\n"
          ]
        }
      ],
      "source": [
        "sub = model.get_submission(testd, dloader.labels)\n"
      ]
    }
  ],
  "metadata": {
    "accelerator": "GPU",
    "colab": {
      "collapsed_sections": [],
      "machine_shape": "hm",
      "name": "notebook26837bb0b7 (1).ipynb",
      "provenance": []
    },
    "kernelspec": {
      "display_name": "Python 3",
      "language": "python",
      "name": "python3"
    },
    "language_info": {
      "codemirror_mode": {
        "name": "ipython",
        "version": 3
      },
      "file_extension": ".py",
      "mimetype": "text/x-python",
      "name": "python",
      "nbconvert_exporter": "python",
      "pygments_lexer": "ipython3",
      "version": "3.6.4"
    }
  },
  "nbformat": 4,
  "nbformat_minor": 0
}
